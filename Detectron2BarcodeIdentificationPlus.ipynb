{
  "cells": [
    {
      "cell_type": "markdown",
      "metadata": {
        "id": "view-in-github",
        "colab_type": "text"
      },
      "source": [
        "<a href=\"https://colab.research.google.com/github/chengyang122/Metter.js-and-MediaPipe-Interactive-game/blob/main/Detectron2BarcodeIdentificationPlus.ipynb\" target=\"_parent\"><img src=\"https://colab.research.google.com/assets/colab-badge.svg\" alt=\"Open In Colab\"/></a>"
      ]
    },
    {
      "cell_type": "code",
      "execution_count": 1,
      "metadata": {
        "colab": {
          "base_uri": "https://localhost:8080/"
        },
        "id": "OWispC-Tw25i",
        "outputId": "e38c1a75-7971-476e-ba73-b5c4632a834c"
      },
      "outputs": [
        {
          "output_type": "stream",
          "name": "stdout",
          "text": [
            "Drive already mounted at /content/drive; to attempt to forcibly remount, call drive.mount(\"/content/drive\", force_remount=True).\n"
          ]
        }
      ],
      "source": [
        "from google.colab import drive\n",
        "drive.mount('/content/drive')"
      ]
    },
    {
      "cell_type": "code",
      "source": [
        "!pip install ipython-autotime\n",
        "%load_ext autotime"
      ],
      "metadata": {
        "colab": {
          "base_uri": "https://localhost:8080/"
        },
        "id": "p3VYeFqXzogi",
        "outputId": "e7d9678f-4b55-41c0-dc8b-d0fe7d5ce939"
      },
      "execution_count": 2,
      "outputs": [
        {
          "output_type": "stream",
          "name": "stdout",
          "text": [
            "Requirement already satisfied: ipython-autotime in /usr/local/lib/python3.7/dist-packages (0.3.1)\n",
            "Requirement already satisfied: ipython in /usr/local/lib/python3.7/dist-packages (from ipython-autotime) (5.5.0)\n",
            "Requirement already satisfied: prompt-toolkit<2.0.0,>=1.0.4 in /usr/local/lib/python3.7/dist-packages (from ipython->ipython-autotime) (1.0.18)\n",
            "Requirement already satisfied: traitlets>=4.2 in /usr/local/lib/python3.7/dist-packages (from ipython->ipython-autotime) (5.1.1)\n",
            "Requirement already satisfied: simplegeneric>0.8 in /usr/local/lib/python3.7/dist-packages (from ipython->ipython-autotime) (0.8.1)\n",
            "Requirement already satisfied: pygments in /usr/local/lib/python3.7/dist-packages (from ipython->ipython-autotime) (2.6.1)\n",
            "Requirement already satisfied: pickleshare in /usr/local/lib/python3.7/dist-packages (from ipython->ipython-autotime) (0.7.5)\n",
            "Requirement already satisfied: pexpect in /usr/local/lib/python3.7/dist-packages (from ipython->ipython-autotime) (4.8.0)\n",
            "Requirement already satisfied: decorator in /usr/local/lib/python3.7/dist-packages (from ipython->ipython-autotime) (4.4.2)\n",
            "Requirement already satisfied: setuptools>=18.5 in /usr/local/lib/python3.7/dist-packages (from ipython->ipython-autotime) (57.4.0)\n",
            "Requirement already satisfied: six>=1.9.0 in /usr/local/lib/python3.7/dist-packages (from prompt-toolkit<2.0.0,>=1.0.4->ipython->ipython-autotime) (1.15.0)\n",
            "Requirement already satisfied: wcwidth in /usr/local/lib/python3.7/dist-packages (from prompt-toolkit<2.0.0,>=1.0.4->ipython->ipython-autotime) (0.2.5)\n",
            "Requirement already satisfied: ptyprocess>=0.5 in /usr/local/lib/python3.7/dist-packages (from pexpect->ipython->ipython-autotime) (0.7.0)\n",
            "time: 176 µs (started: 2022-05-23 01:33:50 +00:00)\n"
          ]
        }
      ]
    },
    {
      "cell_type": "code",
      "execution_count": 3,
      "metadata": {
        "colab": {
          "base_uri": "https://localhost:8080/"
        },
        "id": "eQclDaJ_vmsA",
        "outputId": "bc1e4ef9-85da-4fe0-c263-0c67ad92cc35"
      },
      "outputs": [
        {
          "output_type": "stream",
          "name": "stdout",
          "text": [
            "Requirement already satisfied: pyyaml==5.1 in /usr/local/lib/python3.7/dist-packages (5.1)\n",
            "torch:  1.11 ; cuda:  cu113\n",
            "Collecting git+https://github.com/facebookresearch/detectron2.git\n",
            "  Cloning https://github.com/facebookresearch/detectron2.git to /tmp/pip-req-build-ujxtgc07\n",
            "  Running command git clone -q https://github.com/facebookresearch/detectron2.git /tmp/pip-req-build-ujxtgc07\n",
            "Requirement already satisfied: Pillow>=7.1 in /usr/local/lib/python3.7/dist-packages (from detectron2==0.6) (7.1.2)\n",
            "Requirement already satisfied: matplotlib in /usr/local/lib/python3.7/dist-packages (from detectron2==0.6) (3.2.2)\n",
            "Requirement already satisfied: pycocotools>=2.0.2 in /usr/local/lib/python3.7/dist-packages (from detectron2==0.6) (2.0.4)\n",
            "Requirement already satisfied: termcolor>=1.1 in /usr/local/lib/python3.7/dist-packages (from detectron2==0.6) (1.1.0)\n",
            "Requirement already satisfied: yacs>=0.1.8 in /usr/local/lib/python3.7/dist-packages (from detectron2==0.6) (0.1.8)\n",
            "Requirement already satisfied: tabulate in /usr/local/lib/python3.7/dist-packages (from detectron2==0.6) (0.8.9)\n",
            "Requirement already satisfied: cloudpickle in /usr/local/lib/python3.7/dist-packages (from detectron2==0.6) (1.3.0)\n",
            "Requirement already satisfied: tqdm>4.29.0 in /usr/local/lib/python3.7/dist-packages (from detectron2==0.6) (4.64.0)\n",
            "Requirement already satisfied: tensorboard in /usr/local/lib/python3.7/dist-packages (from detectron2==0.6) (2.8.0)\n",
            "Requirement already satisfied: fvcore<0.1.6,>=0.1.5 in /usr/local/lib/python3.7/dist-packages (from detectron2==0.6) (0.1.5.post20220512)\n",
            "Requirement already satisfied: iopath<0.1.10,>=0.1.7 in /usr/local/lib/python3.7/dist-packages (from detectron2==0.6) (0.1.9)\n",
            "Requirement already satisfied: future in /usr/local/lib/python3.7/dist-packages (from detectron2==0.6) (0.16.0)\n",
            "Requirement already satisfied: pydot in /usr/local/lib/python3.7/dist-packages (from detectron2==0.6) (1.3.0)\n",
            "Requirement already satisfied: omegaconf<=2.2.0,>=2.1 in /usr/local/lib/python3.7/dist-packages (from detectron2==0.6) (2.1.2)\n",
            "Requirement already satisfied: hydra-core>=1.1 in /usr/local/lib/python3.7/dist-packages (from detectron2==0.6) (1.1.2)\n",
            "Requirement already satisfied: black==21.4b2 in /usr/local/lib/python3.7/dist-packages (from detectron2==0.6) (21.4b2)\n",
            "Requirement already satisfied: scipy>1.5.1 in /usr/local/lib/python3.7/dist-packages (from detectron2==0.6) (1.7.3)\n",
            "Requirement already satisfied: click>=7.1.2 in /usr/local/lib/python3.7/dist-packages (from black==21.4b2->detectron2==0.6) (7.1.2)\n",
            "Requirement already satisfied: appdirs in /usr/local/lib/python3.7/dist-packages (from black==21.4b2->detectron2==0.6) (1.4.4)\n",
            "Requirement already satisfied: typing-extensions>=3.7.4 in /usr/local/lib/python3.7/dist-packages (from black==21.4b2->detectron2==0.6) (4.2.0)\n",
            "Requirement already satisfied: regex>=2020.1.8 in /usr/local/lib/python3.7/dist-packages (from black==21.4b2->detectron2==0.6) (2022.4.24)\n",
            "Requirement already satisfied: pathspec<1,>=0.8.1 in /usr/local/lib/python3.7/dist-packages (from black==21.4b2->detectron2==0.6) (0.9.0)\n",
            "Requirement already satisfied: typed-ast>=1.4.2 in /usr/local/lib/python3.7/dist-packages (from black==21.4b2->detectron2==0.6) (1.5.4)\n",
            "Requirement already satisfied: toml>=0.10.1 in /usr/local/lib/python3.7/dist-packages (from black==21.4b2->detectron2==0.6) (0.10.2)\n",
            "Requirement already satisfied: mypy-extensions>=0.4.3 in /usr/local/lib/python3.7/dist-packages (from black==21.4b2->detectron2==0.6) (0.4.3)\n",
            "Requirement already satisfied: numpy in /usr/local/lib/python3.7/dist-packages (from fvcore<0.1.6,>=0.1.5->detectron2==0.6) (1.21.6)\n",
            "Requirement already satisfied: pyyaml>=5.1 in /usr/local/lib/python3.7/dist-packages (from fvcore<0.1.6,>=0.1.5->detectron2==0.6) (5.1)\n",
            "Requirement already satisfied: antlr4-python3-runtime==4.8 in /usr/local/lib/python3.7/dist-packages (from hydra-core>=1.1->detectron2==0.6) (4.8)\n",
            "Requirement already satisfied: importlib-resources<5.3 in /usr/local/lib/python3.7/dist-packages (from hydra-core>=1.1->detectron2==0.6) (5.2.3)\n",
            "Requirement already satisfied: zipp>=3.1.0 in /usr/local/lib/python3.7/dist-packages (from importlib-resources<5.3->hydra-core>=1.1->detectron2==0.6) (3.8.0)\n",
            "Requirement already satisfied: portalocker in /usr/local/lib/python3.7/dist-packages (from iopath<0.1.10,>=0.1.7->detectron2==0.6) (2.4.0)\n",
            "Requirement already satisfied: kiwisolver>=1.0.1 in /usr/local/lib/python3.7/dist-packages (from matplotlib->detectron2==0.6) (1.4.2)\n",
            "Requirement already satisfied: python-dateutil>=2.1 in /usr/local/lib/python3.7/dist-packages (from matplotlib->detectron2==0.6) (2.8.2)\n",
            "Requirement already satisfied: cycler>=0.10 in /usr/local/lib/python3.7/dist-packages (from matplotlib->detectron2==0.6) (0.11.0)\n",
            "Requirement already satisfied: pyparsing!=2.0.4,!=2.1.2,!=2.1.6,>=2.0.1 in /usr/local/lib/python3.7/dist-packages (from matplotlib->detectron2==0.6) (3.0.9)\n",
            "Requirement already satisfied: six>=1.5 in /usr/local/lib/python3.7/dist-packages (from python-dateutil>=2.1->matplotlib->detectron2==0.6) (1.15.0)\n",
            "Requirement already satisfied: grpcio>=1.24.3 in /usr/local/lib/python3.7/dist-packages (from tensorboard->detectron2==0.6) (1.46.1)\n",
            "Requirement already satisfied: absl-py>=0.4 in /usr/local/lib/python3.7/dist-packages (from tensorboard->detectron2==0.6) (1.0.0)\n",
            "Requirement already satisfied: google-auth-oauthlib<0.5,>=0.4.1 in /usr/local/lib/python3.7/dist-packages (from tensorboard->detectron2==0.6) (0.4.6)\n",
            "Requirement already satisfied: requests<3,>=2.21.0 in /usr/local/lib/python3.7/dist-packages (from tensorboard->detectron2==0.6) (2.23.0)\n",
            "Requirement already satisfied: werkzeug>=0.11.15 in /usr/local/lib/python3.7/dist-packages (from tensorboard->detectron2==0.6) (1.0.1)\n",
            "Requirement already satisfied: protobuf>=3.6.0 in /usr/local/lib/python3.7/dist-packages (from tensorboard->detectron2==0.6) (3.17.3)\n",
            "Requirement already satisfied: setuptools>=41.0.0 in /usr/local/lib/python3.7/dist-packages (from tensorboard->detectron2==0.6) (57.4.0)\n",
            "Requirement already satisfied: tensorboard-plugin-wit>=1.6.0 in /usr/local/lib/python3.7/dist-packages (from tensorboard->detectron2==0.6) (1.8.1)\n",
            "Requirement already satisfied: google-auth<3,>=1.6.3 in /usr/local/lib/python3.7/dist-packages (from tensorboard->detectron2==0.6) (1.35.0)\n",
            "Requirement already satisfied: wheel>=0.26 in /usr/local/lib/python3.7/dist-packages (from tensorboard->detectron2==0.6) (0.37.1)\n",
            "Requirement already satisfied: markdown>=2.6.8 in /usr/local/lib/python3.7/dist-packages (from tensorboard->detectron2==0.6) (3.3.7)\n",
            "Requirement already satisfied: tensorboard-data-server<0.7.0,>=0.6.0 in /usr/local/lib/python3.7/dist-packages (from tensorboard->detectron2==0.6) (0.6.1)\n",
            "Requirement already satisfied: pyasn1-modules>=0.2.1 in /usr/local/lib/python3.7/dist-packages (from google-auth<3,>=1.6.3->tensorboard->detectron2==0.6) (0.2.8)\n",
            "Requirement already satisfied: rsa<5,>=3.1.4 in /usr/local/lib/python3.7/dist-packages (from google-auth<3,>=1.6.3->tensorboard->detectron2==0.6) (4.8)\n",
            "Requirement already satisfied: cachetools<5.0,>=2.0.0 in /usr/local/lib/python3.7/dist-packages (from google-auth<3,>=1.6.3->tensorboard->detectron2==0.6) (4.2.4)\n",
            "Requirement already satisfied: requests-oauthlib>=0.7.0 in /usr/local/lib/python3.7/dist-packages (from google-auth-oauthlib<0.5,>=0.4.1->tensorboard->detectron2==0.6) (1.3.1)\n",
            "Requirement already satisfied: importlib-metadata>=4.4 in /usr/local/lib/python3.7/dist-packages (from markdown>=2.6.8->tensorboard->detectron2==0.6) (4.11.3)\n",
            "Requirement already satisfied: pyasn1<0.5.0,>=0.4.6 in /usr/local/lib/python3.7/dist-packages (from pyasn1-modules>=0.2.1->google-auth<3,>=1.6.3->tensorboard->detectron2==0.6) (0.4.8)\n",
            "Requirement already satisfied: certifi>=2017.4.17 in /usr/local/lib/python3.7/dist-packages (from requests<3,>=2.21.0->tensorboard->detectron2==0.6) (2021.10.8)\n",
            "Requirement already satisfied: idna<3,>=2.5 in /usr/local/lib/python3.7/dist-packages (from requests<3,>=2.21.0->tensorboard->detectron2==0.6) (2.10)\n",
            "Requirement already satisfied: urllib3!=1.25.0,!=1.25.1,<1.26,>=1.21.1 in /usr/local/lib/python3.7/dist-packages (from requests<3,>=2.21.0->tensorboard->detectron2==0.6) (1.24.3)\n",
            "Requirement already satisfied: chardet<4,>=3.0.2 in /usr/local/lib/python3.7/dist-packages (from requests<3,>=2.21.0->tensorboard->detectron2==0.6) (3.0.4)\n",
            "Requirement already satisfied: oauthlib>=3.0.0 in /usr/local/lib/python3.7/dist-packages (from requests-oauthlib>=0.7.0->google-auth-oauthlib<0.5,>=0.4.1->tensorboard->detectron2==0.6) (3.2.0)\n",
            "time: 13.2 s (started: 2022-05-23 01:33:50 +00:00)\n"
          ]
        }
      ],
      "source": [
        "!pip install pyyaml==5.1\n",
        "\n",
        "import torch\n",
        "TORCH_VERSION = \".\".join(torch.__version__.split(\".\")[:2])\n",
        "CUDA_VERSION = torch.__version__.split(\"+\")[-1]\n",
        "print(\"torch: \", TORCH_VERSION, \"; cuda: \", CUDA_VERSION)\n",
        "# Install detectron2 that matches the above pytorch version\n",
        "# See https://detectron2.readthedocs.io/tutorials/install.html for instructions\n",
        "!pip install 'git+https://github.com/facebookresearch/detectron2.git'\n",
        "# If there is not yet a detectron2 release that matches the given torch + CUDA version, you need to install a different pytorch.\n",
        "\n",
        "# exit(0)  # After installation, you may need to \"restart runtime\" in Colab. This line can also restart runtime"
      ]
    },
    {
      "cell_type": "code",
      "execution_count": 4,
      "metadata": {
        "id": "Z5yPG0bI5HwH",
        "colab": {
          "base_uri": "https://localhost:8080/"
        },
        "outputId": "21b2e234-1f1b-4db6-f554-495c05edfa2c"
      },
      "outputs": [
        {
          "output_type": "stream",
          "name": "stdout",
          "text": [
            "time: 579 ms (started: 2022-05-23 01:35:08 +00:00)\n"
          ]
        }
      ],
      "source": [
        "import numpy as np\n",
        "import json\n",
        "import pandas as pd\n",
        "import cv2\n",
        "# Setup detectron2 logger\n",
        "import detectron2\n",
        "from detectron2.utils.logger import setup_logger\n",
        "setup_logger()\n",
        "\n",
        "# import some common libraries\n",
        "import numpy as np\n",
        "import os, json, cv2, random\n",
        "from google.colab.patches import cv2_imshow\n",
        "\n",
        "# import some common detectron2 utilities\n",
        "from detectron2 import model_zoo\n",
        "from detectron2.engine import DefaultPredictor\n",
        "from detectron2.config import get_cfg\n",
        "from detectron2.utils.visualizer import Visualizer\n",
        "from detectron2.data import MetadataCatalog, DatasetCatalog"
      ]
    },
    {
      "cell_type": "code",
      "execution_count": 5,
      "metadata": {
        "id": "L9Pup_swxLHx",
        "colab": {
          "base_uri": "https://localhost:8080/"
        },
        "outputId": "28b35ff7-bf93-4b29-84ff-e59845dbcdcd"
      },
      "outputs": [
        {
          "output_type": "stream",
          "name": "stdout",
          "text": [
            "time: 474 ms (started: 2022-05-23 01:35:10 +00:00)\n"
          ]
        }
      ],
      "source": [
        "img_address_base = '/content/drive/MyDrive/barcode/Ananya.zip (Unzipped Files)/'\n",
        "df = pd.read_excel('/content/drive/MyDrive/barcode/AnanyaAnnotation_10-09-2017.xlsx')\n",
        "df['isBarcode'] = 1\n",
        "img = cv2.imread(img_address_base + df.loc[1][0] + '.jpg')"
      ]
    },
    {
      "cell_type": "code",
      "execution_count": 6,
      "metadata": {
        "id": "5HukX-Mr6sMZ",
        "colab": {
          "base_uri": "https://localhost:8080/"
        },
        "outputId": "f97b9083-15ab-40f7-e546-8f51f2efd369"
      },
      "outputs": [
        {
          "output_type": "stream",
          "name": "stdout",
          "text": [
            "time: 63 ms (started: 2022-05-23 01:35:12 +00:00)\n"
          ]
        }
      ],
      "source": [
        "img_address_base = '/content/drive/MyDrive/barcode/Ananya.zip (Unzipped Files)/'\n",
        "img = cv2.imread(img_address_base + str(df.loc[10][0]) + '.jpg')"
      ]
    },
    {
      "cell_type": "code",
      "execution_count": 7,
      "metadata": {
        "id": "uVdUcOry7x_R",
        "colab": {
          "base_uri": "https://localhost:8080/"
        },
        "outputId": "e4896f16-30e4-431c-9aea-5c32fe65f419"
      },
      "outputs": [
        {
          "output_type": "stream",
          "name": "stdout",
          "text": [
            "time: 15 ms (started: 2022-05-23 01:35:13 +00:00)\n"
          ]
        }
      ],
      "source": [
        "df['ymax'] = df[['Y1','Y2', 'Y3', 'Y4']].max(axis=1)\n",
        "df['ymin'] = df[['Y1','Y2', 'Y3', 'Y4']].min(axis=1)\n",
        "df['xmax'] = df[['X1','X2','X3','X4']].max(axis=1)\n",
        "df['xmin'] = df[['X1','X2','X3','X4']].min(axis=1)\n",
        "df['width'] = img.shape[1] #since all shape are the same. Can use shape of one picture \n",
        "df['height'] = img.shape[0] #since all shape are the same. Can use shape of one picture \n",
        "df['class'] = 1\n",
        "df['filename'] = df['Image Filename']+ '.jpg'\n",
        "df[\"category_id\"] = 0"
      ]
    },
    {
      "cell_type": "code",
      "execution_count": 8,
      "metadata": {
        "colab": {
          "base_uri": "https://localhost:8080/"
        },
        "id": "ySHx9KLls_kB",
        "outputId": "1515bb39-eac3-47f3-9568-f6548c3f077a"
      },
      "outputs": [
        {
          "output_type": "stream",
          "name": "stdout",
          "text": [
            "time: 69.3 ms (started: 2022-05-23 01:35:16 +00:00)\n"
          ]
        },
        {
          "output_type": "stream",
          "name": "stderr",
          "text": [
            "/usr/local/lib/python3.7/dist-packages/ipykernel_launcher.py:17: SettingWithCopyWarning: \n",
            "A value is trying to be set on a copy of a slice from a DataFrame.\n",
            "Try using .loc[row_indexer,col_indexer] = value instead\n",
            "\n",
            "See the caveats in the documentation: https://pandas.pydata.org/pandas-docs/stable/user_guide/indexing.html#returning-a-view-versus-a-copy\n",
            "/usr/local/lib/python3.7/dist-packages/ipykernel_launcher.py:30: SettingWithCopyWarning: \n",
            "A value is trying to be set on a copy of a slice from a DataFrame.\n",
            "Try using .loc[row_indexer,col_indexer] = value instead\n",
            "\n",
            "See the caveats in the documentation: https://pandas.pydata.org/pandas-docs/stable/user_guide/indexing.html#returning-a-view-versus-a-copy\n"
          ]
        }
      ],
      "source": [
        "#show the shape of the output image \n",
        "def annotation(row):\n",
        "    annotation = {}\n",
        "    area = (row.xmax -row.xmin)*(row.ymax - row.ymin)\n",
        "    annotation[\"bbox\"] = [row.xmin, row.ymin, row.xmax -row.xmin,row.ymax-row.ymin ]\n",
        "    annotation['bbox_mode'] = 1\n",
        "    annotation[\"category_id\"] = row.category_id\n",
        "    annotation[\"segmentation\"] = [[row.X1, row.Y1, row.X2, row.Y2, row.X3, row.Y3, row.X4, row.Y4]]\n",
        "    return annotation\n",
        "\n",
        "dftrain = df[:1000]\n",
        "dftest = df[1000:]\n",
        "\n",
        "annotation_column = []\n",
        "for row in dftrain.itertuples():\n",
        "    annotation_column.append(annotation(row))\n",
        "dftrain['annotation'] = annotation_column\n",
        "g = dftrain[['Image Filename', 'annotation']].groupby('Image Filename')['annotation'].apply(list).reset_index(name='annotations')\n",
        "g.columns = ['file_name','annotations']\n",
        "g['width'] = 2592\n",
        "g['height'] = 1944\n",
        "g['image_id'] = np.arange(len(g))\n",
        "g.index=np.arange(len(g))\n",
        "g.reset_index(inplace=True)\n",
        "g.to_json(\"/content/drive/MyDrive/barcode/Ananya.zip (Unzipped Files)/train_dataset.json\",orient=\"records\")\n",
        "\n",
        "annotation_column = []\n",
        "for row in dftest.itertuples():\n",
        "    annotation_column.append(annotation(row))\n",
        "dftest['annotation'] = annotation_column\n",
        "g = dftest[['Image Filename', 'annotation']].groupby('Image Filename')['annotation'].apply(list).reset_index(name='annotations')\n",
        "g.columns = ['file_name','annotations']\n",
        "g['width'] = 2592\n",
        "g['height'] = 1944\n",
        "g['image_id'] = np.arange(len(g))\n",
        "g.index=np.arange(len(g))\n",
        "g.reset_index(inplace=True)\n",
        "g.to_json(\"/content/drive/MyDrive/barcode/Ananya.zip (Unzipped Files)/test_dataset.json\",orient=\"records\")\n",
        "\n"
      ]
    },
    {
      "cell_type": "code",
      "execution_count": 9,
      "metadata": {
        "id": "j3m5rpnr3HIu",
        "colab": {
          "base_uri": "https://localhost:8080/"
        },
        "outputId": "7b0fdcea-ee88-4c2b-b22a-3188af37e42a"
      },
      "outputs": [
        {
          "output_type": "stream",
          "name": "stdout",
          "text": [
            "time: 16.3 ms (started: 2022-05-23 01:35:18 +00:00)\n"
          ]
        }
      ],
      "source": [
        "import json\n",
        "from detectron2.structures import BoxMode\n",
        "def get_board_dicts_train():#/test_dataset.json #/train_dataset.json\n",
        "    json_file = \"/content/drive/MyDrive/barcode/Ananya.zip (Unzipped Files)\"+ '/train_dataset.json' #Fetch the json file\n",
        "    with open(json_file) as f:\n",
        "        dataset_dicts = json.load(f)\n",
        "    for i in dataset_dicts:\n",
        "        filename = i[\"file_name\"] \n",
        "        i[\"file_name\"] = \"/content/drive/MyDrive/barcode/Ananya.zip (Unzipped Files)\"+\"/\"+filename +'.jpg' \n",
        "        for j in i[\"annotations\"]:\n",
        "            j[\"bbox_mode\"] = BoxMode.XYWH_ABS #Setting the required Box Mode\n",
        "            j[\"category_id\"] = int(j[\"category_id\"])\n",
        "    return dataset_dicts\n",
        "\n",
        "def get_board_dicts_test():#/test_dataset.json #/train_dataset.json\n",
        "    json_file = \"/content/drive/MyDrive/barcode/Ananya.zip (Unzipped Files)\"+ '/test_dataset.json' #Fetch the json file\n",
        "    with open(json_file) as f:\n",
        "        dataset_dicts = json.load(f)\n",
        "    for i in dataset_dicts:\n",
        "        filename = i[\"file_name\"] \n",
        "        i[\"file_name\"] = \"/content/drive/MyDrive/barcode/Ananya.zip (Unzipped Files)\"+\"/\"+filename +'.jpg' \n",
        "        for j in i[\"annotations\"]:\n",
        "            j[\"bbox_mode\"] = BoxMode.XYWH_ABS #Setting the required Box Mode\n",
        "            j[\"category_id\"] = int(j[\"category_id\"])\n",
        "    return dataset_dicts\n",
        "from detectron2.data import DatasetCatalog, MetadataCatalog\n",
        "\n",
        "DatasetCatalog.clear()\n",
        "#Registering the Dataset\n",
        "DatasetCatalog.register(\"boardetect_train\", get_board_dicts_train)\n",
        "MetadataCatalog.get(\"boardetect_train\").set(thing_classes=[\"Barcode\"])\n",
        "\n",
        "DatasetCatalog.register(\"boardetect_test\", get_board_dicts_test)\n",
        "MetadataCatalog.get(\"boardetect_test\").set(thing_classes=[\"Barcode\"])\n",
        "\n",
        "board_metadata_train = MetadataCatalog.get(\"boardetect_train\")\n",
        "board_metadata_test = MetadataCatalog.get(\"boardetect_test\")"
      ]
    },
    {
      "cell_type": "code",
      "execution_count": null,
      "metadata": {
        "id": "zHEkmWoH3MoJ"
      },
      "outputs": [],
      "source": [
        "dataset_dicts = get_board_dicts_train()\n",
        "#Randomly choosing 3 images from the Set\n",
        "for d in random.sample(dataset_dicts, 3):\n",
        "    img = cv2.imread(d[\"file_name\"])\n",
        "    print(d[\"file_name\"])\n",
        "    visualizer = Visualizer(img[:, :, ::-1], metadata=board_metadata_train)\n",
        "    vis = visualizer.draw_dataset_dict(d)\n",
        "    cv2_imshow(vis.get_image()[:, :, ::-1])"
      ]
    },
    {
      "cell_type": "code",
      "execution_count": null,
      "metadata": {
        "id": "N7ZEYQQ7yj9V"
      },
      "outputs": [],
      "source": [
        "from detectron2.engine import DefaultTrainer\n",
        "\n",
        "cfg = get_cfg()\n",
        "cfg.merge_from_file(model_zoo.get_config_file(\"COCO-InstanceSegmentation/faster_rcnn_R_50_FPN_3x.yaml\"))\n",
        "cfg.DATASETS.TRAIN = (\"boardetect_train\",)\n",
        "cfg.DATASETS.TEST = (\"boardetect_test\",)\n",
        "cfg.DATALOADER.NUM_WORKERS = 2\n",
        "cfg.MODEL.WEIGHTS = model_zoo.get_checkpoint_url(\"COCO-InstanceSegmentation/faster_rcnn_R_50_FPN_3x.yaml\")  # Let training initialize from model zoo\n",
        "cfg.SOLVER.IMS_PER_BATCH = 2\n",
        "cfg.SOLVER.BASE_LR = 0.00025  # pick a good LR\n",
        "cfg.SOLVER.MAX_ITER = 1000    # 300 iterations seems good enough for this toy dataset; you will need to train longer for a practical dataset\n",
        "cfg.SOLVER.STEPS = []        # do not decay learning rate\n",
        "cfg.MODEL.ROI_HEADS.BATCH_SIZE_PER_IMAGE = 128   # faster, and good enough for this toy dataset (default: 512)\n",
        "cfg.MODEL.ROI_HEADS.NUM_CLASSES = 1  # only has one class (ballon). (see https://detectron2.readthedocs.io/tutorials/datasets.html#update-the-config-for-new-datasets)\n",
        "# NOTE: this config means the number of classes, but a few popular unofficial tutorials incorrect uses num_classes+1 here.\n",
        "\n",
        "os.makedirs(cfg.OUTPUT_DIR, exist_ok=True)\n",
        "trainer = DefaultTrainer(cfg) \n",
        "trainer.resume_or_load(resume=False)\n",
        "trainer.train()"
      ]
    },
    {
      "cell_type": "code",
      "source": [
        "cfg.MODEL.WEIGHTS = os.path.join(cfg.OUTPUT_DIR, \"model_final.pth\")\n",
        "cfg.MODEL.ROI_HEADS.SCORE_THRESH_TEST = 0.5 # set the testing threshold for this model\n",
        "cfg.DATASETS.TEST = (\"boardetect_test\", )\n",
        "predictor = DefaultPredictor(cfg)\n",
        "\n",
        "from detectron2.utils.visualizer import ColorMode\n",
        "dataset_dicts = get_board_dicts_test()\n",
        "decresult = 0\n",
        "for d in random.sample(dataset_dicts, 46):    \n",
        "    im = cv2.imread(d[\"file_name\"])\n",
        "    outputs = predictor(im)\n",
        "    v = Visualizer(im[:, :, ::-1],\n",
        "                   metadata=board_metadata_test, \n",
        "                   scale=0.8,\n",
        "                   instance_mode=ColorMode.IMAGE   # remove the colors of unsegmented pixels\n",
        "    )\n",
        "    decresult = decresult + len(outputs['instances'])"
      ],
      "metadata": {
        "id": "gNxkEECQ0Xh4"
      },
      "execution_count": null,
      "outputs": []
    },
    {
      "cell_type": "code",
      "execution_count": null,
      "metadata": {
        "id": "Jk4R3pbVAdg2"
      },
      "outputs": [],
      "source": [
        "cfg.MODEL.WEIGHTS = os.path.join(cfg.OUTPUT_DIR, \"model_final.pth\")\n",
        "cfg.MODEL.ROI_HEADS.SCORE_THRESH_TEST = 0.5 # set the testing threshold for this model\n",
        "cfg.DATASETS.TEST = (\"boardetect_test\", )\n",
        "predictor = DefaultPredictor(cfg)\n",
        "\n",
        "from detectron2.utils.visualizer import ColorMode\n",
        "dataset_dicts = get_board_dicts_test()\n",
        "decresult = 0\n",
        "for d in random.sample(dataset_dicts, 46):    \n",
        "    im = cv2.imread(d[\"file_name\"])\n",
        "    outputs = predictor(im)\n",
        "    v = Visualizer(im[:, :, ::-1],\n",
        "                   metadata=board_metadata_test, \n",
        "                   scale=0.8,\n",
        "                   instance_mode=ColorMode.IMAGE   # remove the colors of unsegmented pixels\n",
        "    )\n",
        "    decresult = decresult + len(outputs['instances'])\n",
        "    v = v.draw_instance_predictions(outputs[\"instances\"].to(\"cpu\"))\n",
        "    cv2_imshow(v.get_image()[:, :, ::-1])\n",
        "print(f'number of detected boxes is {decresult}')\n"
      ]
    },
    {
      "cell_type": "code",
      "source": [
        "len(outputs['instances'])"
      ],
      "metadata": {
        "colab": {
          "base_uri": "https://localhost:8080/"
        },
        "id": "_l3DyMCOOcvQ",
        "outputId": "748018f7-ccea-4e7e-94e2-47a3ed5f134f"
      },
      "execution_count": null,
      "outputs": [
        {
          "output_type": "execute_result",
          "data": {
            "text/plain": [
              "6"
            ]
          },
          "metadata": {},
          "execution_count": 25
        }
      ]
    },
    {
      "cell_type": "code",
      "execution_count": null,
      "metadata": {
        "id": "w6cXeXUu7e5U"
      },
      "outputs": [],
      "source": [
        "im = cv2.imread('/content/drive/MyDrive/barcode/capture_2018_08_08_05_30_52.png')\n",
        "outputs = predictor(im)\n",
        "v = Visualizer(im[:, :, ::-1],\n",
        "                metadata=board_metadata_test, \n",
        "                scale=0.8,\n",
        "                instance_mode=ColorMode.IMAGE   # remove the colors of unsegmented pixels\n",
        ")\n",
        "v = v.draw_instance_predictions(outputs[\"instances\"].to(\"cpu\"))\n",
        "cv2_imshow(v.get_image()[:, :, ::-1])"
      ]
    },
    {
      "cell_type": "code",
      "source": [
        "outputs[\"instances\"].to(\"cpu\").pred_boxes.tensor.detach().numpy() "
      ],
      "metadata": {
        "id": "2Y9CoEZVPkbO"
      },
      "execution_count": null,
      "outputs": []
    },
    {
      "cell_type": "code",
      "execution_count": null,
      "metadata": {
        "colab": {
          "base_uri": "https://localhost:8080/",
          "height": 35
        },
        "id": "-mzvyzDWGw7a",
        "outputId": "d8fd7491-d51b-4988-82a8-a6d33bbdff9d"
      },
      "outputs": [
        {
          "output_type": "execute_result",
          "data": {
            "text/plain": [
              "'/content/drive/MyDrive/barcode/Ananya.zip (Unzipped Files)/20170713-16_16_19-RPI1-camC_undistored.jpg'"
            ],
            "application/vnd.google.colaboratory.intrinsic+json": {
              "type": "string"
            }
          },
          "metadata": {},
          "execution_count": 29
        }
      ],
      "source": [
        "dataset_dicts[0]['file_name']"
      ]
    },
    {
      "cell_type": "code",
      "source": [
        "import cv2\n",
        "import cv2 as cv\n",
        "import numpy as np\n",
        "from skimage.morphology import octagon\n",
        "from scipy.signal import medfilt2d\n",
        "from skimage.filters.rank import tophat, bottomhat\n",
        "from tensorflow.keras.preprocessing import image\n",
        "from skimage import measure\n",
        "from skimage.measure import regionprops\n",
        "from skimage.measure import regionprops_table\n",
        "from scipy.stats import norm\n",
        "import warnings\n",
        "import matplotlib.pyplot as plt\n",
        "from scipy.ndimage import binary_opening\n",
        "warnings.filterwarnings('ignore')\n",
        "import os\n",
        "from google.colab.patches import cv2_imshow\n",
        "from skimage import morphology\n",
        "import pandas as pd\n",
        "from skimage import io, morphology\n",
        "import matplotlib.pyplot as plt\n",
        "from PIL import Image as im\n",
        "import matplotlib.pyplot as plt\n",
        "import skimage\n",
        "from skimage.io import imread, imshow\n",
        "from skimage.color import rgb2gray, rgb2hsv\n",
        "from skimage.measure import label, regionprops, regionprops_table\n",
        "from skimage.filters import threshold_otsu\n",
        "from scipy.ndimage import median_filter\n",
        "from matplotlib.patches import Rectangle\n",
        "from tqdm import tqdm\n",
        "from PIL import Image as im\n",
        "%matplotlib inline\n",
        "\n",
        "def rgb2gray(rgb):\n",
        "    r, g, b = rgb[:,:,0], rgb[:,:,1], rgb[:,:,2]\n",
        "    gray = 0.2990 * b + 0.5870 * g + 0.1140 * r\n",
        "    return gray\n",
        "def matlab_disk(radius):\n",
        "  new_radius = radius - 1\n",
        "  y,x = np.ogrid[-new_radius: new_radius+1, -new_radius: new_radius+1]\n",
        "  mask = x**2+y**2<radius**2\n",
        "  return mask.astype(int)\n",
        "def show_area(regCo, theimage, rotation):\n",
        "  fig, ax = plt.subplots(1,1)\n",
        "  img = theimage[int(regCo[0]):int(regCo[2]), int(regCo[1]):int(regCo[3])]\n",
        "  rotated_img = ndimage.rotate(img, rotation)\n",
        "  ax.imshow(rotated_img)\n",
        "def imoverlay(newImage, mask):\n",
        "  newImage[:,:,0][mask>0]=255\n",
        "  newImage[:,:,1][mask>0]=0\n",
        "  newImage[:,:,2][mask>0]=0\n",
        "  return newImage\n",
        "\n",
        "\n",
        "\n",
        "def OrignialDetection(imfilname1):\n",
        "  imCamA  = cv2.imread(imfilname1)\n",
        "  SE_Radius = [(3, 2), (5, 4), (7, 6), (9, 8), (11, 10)]\n",
        "  delsig = 0.0\n",
        "  seTopBotHat = octagon(7, 6)\n",
        "  seDilate = np.array(matlab_disk(5), dtype = np.uint8)#are different\n",
        "  seClose  = np.array(matlab_disk(5), dtype = np.uint8)#are different\n",
        "  seOpenLast = np.array(matlab_disk(5), dtype = np.uint8)#are different\n",
        "  IgrayArray  = np.zeros((3,1))\n",
        "  rgbArray    = np.zeros((3,1))\n",
        "  fileNames = [imCamA, imCamA, imCamA]\n",
        "  [rows, cols, colordepth] = fileNames[0].shape\n",
        "  multiscaleResponseimgold = np.zeros((rows,cols))\n",
        "  IgrayArray = []\n",
        "  imgCnt = 1\n",
        "  imUndistored = fileNames[0]\n",
        "  gray = rgb2gray(imUndistored)\n",
        "  Igray  = medfilt2d(gray,[5,5])\n",
        "  Igray = np.rint(Igray)\n",
        "  #Igray_norm = cv2.normalize(Igray, None, alpha=0, beta=1,norm_type=cv2.NORM_MINMAX, dtype=cv2.CV_32F)\n",
        "  #tophatimg = tophat(Igray_norm, seTopBotHat)\n",
        "  tophatimg = cv2.morphologyEx(Igray, cv2.MORPH_TOPHAT,seTopBotHat)\n",
        "  #bothatimg = bottomhat(Igray_norm, seTopBotHat)\n",
        "  bothatimg = cv2.morphologyEx(Igray, cv2.MORPH_BLACKHAT,seTopBotHat)\n",
        "  enhanceimg = tophatimg+bothatimg\n",
        "  dilateimg = cv2.dilate(enhanceimg,seDilate)\n",
        "  closeimg  = cv2.morphologyEx(dilateimg,cv2.MORPH_CLOSE,seClose)\n",
        "  for i in range(len(SE_Radius)-1):\n",
        "    seOpen1   = octagon(*SE_Radius[i])\n",
        "    seOpen2   = octagon(*SE_Radius[i+1])\n",
        "    IMopen_new1 = cv2.morphologyEx(closeimg, cv2.MORPH_OPEN, seOpen1)\n",
        "    IMopen_new2 = cv2.morphologyEx(closeimg, cv2.MORPH_OPEN, seOpen2)\n",
        "    multiscaleResponseimgnew = np.maximum(IMopen_new1, IMopen_new2)\n",
        "    multiscaleResponseimgold = np.maximum(multiscaleResponseimgold,multiscaleResponseimgnew)\n",
        "  openCloseimg   = cv2.morphologyEx(cv2.morphologyEx(multiscaleResponseimgnew,cv2.MORPH_OPEN,seOpenLast),cv2.MORPH_CLOSE,seOpenLast)\n",
        "  #openCloseimg = openclose_matlab\n",
        "  #level, _ = cv2.threshold(openCloseimg,0,255,cv2.THRESH_BINARY+cv2.THRESH_OTSU)\n",
        "  #_, BW = cv2.threshold(openCloseimg, 128, 255, cv2.THRESH_BINARY)\n",
        "  openCloseimg = image.img_to_array(openCloseimg, dtype='uint8')\n",
        "  level, BW = cv2.threshold(openCloseimg,0,255,cv2.THRESH_BINARY+cv2.THRESH_OTSU)\n",
        "  CC2 = measure.label(BW)\n",
        "  #CC2 = openCloseimg\n",
        "  S2 = regionprops(CC2)\n",
        "  area = [prop.area for prop in S2]\n",
        "  mu_morph = np.mean(area)\n",
        "  sigma_morph = np.std(area)**2\n",
        "  cleaned = morphology.remove_small_objects(CC2, min_size=0, connectivity= 8)# weird preformance \n",
        "\n",
        "\n",
        "  testimg = np.float32(cleaned)\n",
        "  ret, thresh = cv.threshold(testimg*255, 127, 255, 0)\n",
        "  mg = thresh.astype(np.uint8)\n",
        "  contours, hierarchy = cv.findContours(mg, cv.RETR_TREE, cv.CHAIN_APPROX_SIMPLE)\n",
        "  #cv.drawContours(imCamA, contours, -1, (0,255,0), 3)\n",
        "  rects = []\n",
        "  for cnt in contours:\n",
        "    rect = cv.minAreaRect(cnt)\n",
        "    rects.append(rect)\n",
        "    box = cv.boxPoints(rect)\n",
        "    box = np.int0(box)\n",
        "    cv.drawContours(imCamA,[box],0,(0,0,255),2)\n",
        "  cv2_imshow(imCamA)"
      ],
      "metadata": {
        "id": "cIgP7-pPqzjT",
        "colab": {
          "base_uri": "https://localhost:8080/"
        },
        "outputId": "3205cb8a-da83-426b-c039-0f99f9217229"
      },
      "execution_count": null,
      "outputs": [
        {
          "output_type": "stream",
          "name": "stdout",
          "text": [
            "time: 171 ms (started: 2022-04-15 20:26:41 +00:00)\n"
          ]
        }
      ]
    },
    {
      "cell_type": "code",
      "source": [
        "for i in range(len(dataset_dicts)):\n",
        "  imfilname1 = dataset_dicts[i]['file_name']\n",
        "  OrignialDetection(imfilname1)"
      ],
      "metadata": {
        "colab": {
          "base_uri": "https://localhost:8080/"
        },
        "id": "ZZWuFC-l1ISd",
        "outputId": "d7d5fdbb-9afa-4382-dd48-f3384caef8a3"
      },
      "execution_count": null,
      "outputs": [
        {
          "output_type": "stream",
          "name": "stdout",
          "text": [
            "time: 10min 42s (started: 2022-04-15 20:08:42 +00:00)\n"
          ]
        }
      ]
    },
    {
      "cell_type": "code",
      "source": [
        "for i in range(len(dataset_dicts)):\n",
        "  imfilname1 = dataset_dicts[i]['file_name']\n",
        "  OrignialDetection(imfilname1)"
      ],
      "metadata": {
        "id": "iVE93kzurQ__"
      },
      "execution_count": null,
      "outputs": []
    }
  ],
  "metadata": {
    "colab": {
      "collapsed_sections": [],
      "name": "Detectron2BarcodeIdentificationPlus.ipynb",
      "provenance": [],
      "authorship_tag": "ABX9TyOgWiRN6zQkMnxmneqjwuAJ",
      "include_colab_link": true
    },
    "kernelspec": {
      "display_name": "Python 3",
      "name": "python3"
    },
    "language_info": {
      "name": "python"
    },
    "accelerator": "GPU"
  },
  "nbformat": 4,
  "nbformat_minor": 0
}